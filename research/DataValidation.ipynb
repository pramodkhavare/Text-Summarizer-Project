{
 "cells": [
  {
   "cell_type": "code",
   "execution_count": 1,
   "metadata": {},
   "outputs": [],
   "source": [
    "import os ,sys"
   ]
  },
  {
   "cell_type": "code",
   "execution_count": 2,
   "metadata": {},
   "outputs": [
    {
     "name": "stdout",
     "output_type": "stream",
     "text": [
      "d:\\Data Science\\NLP\\Project\\Text-Summarizer-Project\\research\n"
     ]
    }
   ],
   "source": [
    "print(os.getcwd())"
   ]
  },
  {
   "cell_type": "code",
   "execution_count": 3,
   "metadata": {},
   "outputs": [],
   "source": [
    "os.chdir('../')"
   ]
  },
  {
   "cell_type": "code",
   "execution_count": 4,
   "metadata": {},
   "outputs": [
    {
     "name": "stdout",
     "output_type": "stream",
     "text": [
      "d:\\Data Science\\NLP\\Project\\Text-Summarizer-Project\n"
     ]
    }
   ],
   "source": [
    "print(os.getcwd())"
   ]
  },
  {
   "cell_type": "code",
   "execution_count": 5,
   "metadata": {},
   "outputs": [],
   "source": [
    "from dataclasses import dataclass\n",
    "from pathlib import Path \n",
    "@dataclass(frozen=True)\n",
    "class DataValidationConfig:\n",
    "    schema_file_path : Path \n",
    "    # report_file_path : Path \n",
    "    # report_page_file_path : Path \n",
    "    status_file_path : Path "
   ]
  },
  {
   "cell_type": "code",
   "execution_count": 1,
   "metadata": {},
   "outputs": [
    {
     "name": "stdout",
     "output_type": "stream",
     "text": [
      "d:\\Data Science\\NLP\\Project\\Text-Summarizer-Project\\research\\TextSummarizationLog\n",
      "d:\\Data Science\\NLP\\Project\\Text-Summarizer-Project\\research\\TextSummarizationLog\\log_2024_05_06_15_59_11.log\n",
      "['train', 'tests', 'validation']\n"
     ]
    }
   ],
   "source": [
    "ingested_data_folder_path='D:\\\\Data Science\\\\NLP\\\\Project\\\\Text-Summarizer-Project\\\\artifact\\\\data_ingestion\\\\2024-05-06-13-51-17\\\\ingested_data'\n",
    "schem_file_path = 'D:\\\\Data Science\\\\NLP\\Project\\\\Text-Summarizer-Project\\\\config\\\\schema.yaml'\n",
    "from src.TextSummrization.utils.utils import read_yaml \n",
    "schema_file = read_yaml(schem_file_path)\n",
    "# schema_file['files'].keys()\n",
    "# schema_file\n",
    "subfolders = list(schema_file['files'].values())\n",
    "print(subfolders)\n",
    "import os"
   ]
  },
  {
   "cell_type": "code",
   "execution_count": 2,
   "metadata": {},
   "outputs": [
    {
     "data": {
      "text/plain": [
       "False"
      ]
     },
     "execution_count": 2,
     "metadata": {},
     "output_type": "execute_result"
    }
   ],
   "source": [
    "def check_subfolders(folder_path, subfolders):\n",
    "    # Get the list of folders in the specified directory\n",
    "    folders_in_dir = os.listdir(folder_path)\n",
    "\n",
    "    # Check if all subfolders are present\n",
    "    is_available =True\n",
    "    for subfolder in subfolders:\n",
    "                if subfolder not in folders_in_dir:\n",
    "                    is_available  =False\n",
    "                    return is_available \n",
    "    else:\n",
    "                return is_available\n",
    "\n",
    "check_subfolders(folder_path= ingested_data_folder_path ,subfolders=subfolders)"
   ]
  }
 ],
 "metadata": {
  "kernelspec": {
   "display_name": "venv",
   "language": "python",
   "name": "python3"
  },
  "language_info": {
   "codemirror_mode": {
    "name": "ipython",
    "version": 3
   },
   "file_extension": ".py",
   "mimetype": "text/x-python",
   "name": "python",
   "nbconvert_exporter": "python",
   "pygments_lexer": "ipython3",
   "version": "3.11.7"
  }
 },
 "nbformat": 4,
 "nbformat_minor": 2
}
