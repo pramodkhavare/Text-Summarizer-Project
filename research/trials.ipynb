{
 "cells": [
  {
   "cell_type": "code",
   "execution_count": null,
   "metadata": {},
   "outputs": [],
   "source": []
  },
  {
   "cell_type": "code",
   "execution_count": null,
   "metadata": {},
   "outputs": [],
   "source": []
  },
  {
   "cell_type": "code",
   "execution_count": null,
   "metadata": {},
   "outputs": [],
   "source": []
  },
  {
   "cell_type": "code",
   "execution_count": null,
   "metadata": {},
   "outputs": [],
   "source": []
  },
  {
   "cell_type": "code",
   "execution_count": 1,
   "metadata": {},
   "outputs": [
    {
     "data": {
      "text/plain": [
       "'d:\\\\Data Science\\\\NLP\\\\Project\\\\Text-Summarizer-Project\\\\research'"
      ]
     },
     "execution_count": 1,
     "metadata": {},
     "output_type": "execute_result"
    }
   ],
   "source": [
    "import os\n",
    "os.getcwd()"
   ]
  },
  {
   "cell_type": "code",
   "execution_count": 3,
   "metadata": {},
   "outputs": [],
   "source": [
    "os.chdir('../')"
   ]
  },
  {
   "cell_type": "code",
   "execution_count": 3,
   "metadata": {},
   "outputs": [
    {
     "data": {
      "text/plain": [
       "['DataIngestion.ipynb', 'TextSummarization.ipynb', 'trials.ipynb']"
      ]
     },
     "execution_count": 3,
     "metadata": {},
     "output_type": "execute_result"
    }
   ],
   "source": [
    "raw_data_dir='D:\\\\Data Science\\\\NLP\\Project\\\\Text-Summarizer-Project\\\\research'\n",
    "import os \n",
    "os.listdir(raw_data_dir)"
   ]
  },
  {
   "cell_type": "code",
   "execution_count": 6,
   "metadata": {},
   "outputs": [],
   "source": [
    "import zipfile\n",
    "tgz_file_path = \"D:\\\\Data Science\\\\NLP\\Project\\\\Text-Summarizer-Project\\\\artifact\\\\data_ingestion\\\\2024-05-04-23-22-44\\\\tgz_data\\\\samsun_data.zip\"\n",
    "# with tarfile.open(tgz_file_path) as text_data_tgz_file_obj:\n",
    "#     text_data_tgz_file_obj.extractall(path='D:\\\\Data Science\\\\NLP\\\\Project\\\\Text-Summarizer-Project\\\\research')\n",
    "\n",
    "with zipfile.ZipFile(tgz_file_path, 'r') as zip_ref:\n",
    "    zip_ref.extractall(path='D:\\\\Data Science\\\\NLP\\\\Project\\\\Text-Summarizer-Project\\\\research')"
   ]
  },
  {
   "cell_type": "code",
   "execution_count": 1,
   "metadata": {},
   "outputs": [],
   "source": [
    "import pandas  as pd \n",
    "first = pd.read_csv('D:\\\\Data Science\\\\NLP\\\\Project\\\\Text-Summarizer-Project\\\\artifact\\data_ingestion\\\\2024-05-05-00-30-57\\\\raw_data\\\\samsum-test.csv')\n",
    "second =  pd.read_csv('D:\\\\Data Science\\\\NLP\\\\Project\\\\Text-Summarizer-Project\\\\artifact\\data_ingestion\\\\2024-05-05-00-30-57\\\\raw_data\\\\samsum-train.csv') \n",
    "third =  pd.read_csv('D:\\\\Data Science\\\\NLP\\\\Project\\\\Text-Summarizer-Project\\\\artifact\\data_ingestion\\\\2024-05-05-00-30-57\\\\raw_data\\\\samsum-validation.csv')"
   ]
  },
  {
   "cell_type": "code",
   "execution_count": 3,
   "metadata": {},
   "outputs": [
    {
     "name": "stdout",
     "output_type": "stream",
     "text": [
      "819\n",
      "14732\n",
      "818\n"
     ]
    }
   ],
   "source": [
    "print(len(first))\n",
    "print(len(second))\n",
    "print(len(third))"
   ]
  }
 ],
 "metadata": {
  "kernelspec": {
   "display_name": "venv",
   "language": "python",
   "name": "python3"
  },
  "language_info": {
   "codemirror_mode": {
    "name": "ipython",
    "version": 3
   },
   "file_extension": ".py",
   "mimetype": "text/x-python",
   "name": "python",
   "nbconvert_exporter": "python",
   "pygments_lexer": "ipython3",
   "version": "3.11.7"
  }
 },
 "nbformat": 4,
 "nbformat_minor": 2
}
